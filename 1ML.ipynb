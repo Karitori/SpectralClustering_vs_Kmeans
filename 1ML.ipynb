{
 "cells": [
  {
   "cell_type": "code",
   "execution_count": null,
   "id": "6c3fa73a",
   "metadata": {},
   "outputs": [],
   "source": [
    "import numpy as np\n",
    "import math"
   ]
  },
  {
   "cell_type": "code",
   "execution_count": null,
   "id": "8d8f0fc9",
   "metadata": {},
   "outputs": [],
   "source": [
    "#reading data points 1\n",
    "pts = np.zeros((1,2))\n",
    "i=0\n",
    "with open(r'./SpectData.txt') as file:\n",
    "    for readline in file:\n",
    "        line_strip = readline.strip() # removing \\n\n",
    "        point = line_strip.split('\\t') # removing \\t\n",
    "\n",
    "        if(i==0):\n",
    "            pts[0]=point\n",
    "        else:\n",
    "            pts=np.append(pts,np.array([point]),axis=0)  \n",
    "        i+=1             \n",
    "data=pts.astype(float)\n",
    "\n",
    "data[0]\n",
    "len(data)"
   ]
  },
  {
   "cell_type": "code",
   "execution_count": null,
   "id": "b9bd414b",
   "metadata": {},
   "outputs": [],
   "source": [
    "#reading data points 2\n",
    "# pts2 = np.zeros((1,2))\n",
    "# i=0\n",
    "# with open(r'C:\\Users\\itisk\\Desktop\\File Storage\\Workspace\\1\\ML\\Data\\SpectData2.txt') as file:\n",
    "#     for readline in file:\n",
    "#         line_strip = readline.strip() # removing \\n\n",
    "#         point = line_strip.split('\\t') # removing \\t\n",
    "\n",
    "#         if(i==0):\n",
    "#             pts2[0]=point\n",
    "#         else:\n",
    "#             pts2=np.append(pts2,np.array([point]),axis=0)  \n",
    "#         i+=1             \n",
    "# data2=pts.astype(float)\n",
    "\n",
    "# data2[0]\n",
    "# len(data2)"
   ]
  },
  {
   "cell_type": "code",
   "execution_count": null,
   "id": "d1ee95ca",
   "metadata": {},
   "outputs": [],
   "source": [
    "def weightFunc(pts,sigma):\n",
    "    res=np.array([])\n",
    "    for i in range(len(pts)):\n",
    "        for j in range(i+1,len(pts)):\n",
    "            calc=-1*(((pts[i][0]-pts[j][0])**2) + ((pts[i][1]-pts[j][1])**2))/2*((sigma*10**-2)**2)\n",
    "            res=np.append(res,np.array([calc]),axis=0)\n",
    "    print(sigma)\n",
    "    res=np.exp(res)\n",
    "    return(res)\n"
   ]
  },
  {
   "cell_type": "code",
   "execution_count": null,
   "id": "b58f8df2",
   "metadata": {},
   "outputs": [],
   "source": [
    "y = weightFunc(data,1)"
   ]
  },
  {
   "cell_type": "code",
   "execution_count": null,
   "id": "a2b82602",
   "metadata": {},
   "outputs": [],
   "source": [
    "print(len(y))\n",
    "print(\"===============================================\")\n",
    "print(y)"
   ]
  },
  {
   "cell_type": "code",
   "execution_count": null,
   "id": "0325a9de",
   "metadata": {},
   "outputs": [],
   "source": []
  }
 ],
 "metadata": {
  "kernelspec": {
   "display_name": "Python 3",
   "language": "python",
   "name": "python3"
  },
  "language_info": {
   "codemirror_mode": {
    "name": "ipython",
    "version": 3
   },
   "file_extension": ".py",
   "mimetype": "text/x-python",
   "name": "python",
   "nbconvert_exporter": "python",
   "pygments_lexer": "ipython3",
   "version": "3.8.8"
  }
 },
 "nbformat": 4,
 "nbformat_minor": 5
}
