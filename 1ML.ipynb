{
 "cells": [
  {
   "cell_type": "code",
   "execution_count": null,
   "id": "6c3fa73a",
   "metadata": {},
   "outputs": [],
   "source": [
    "import numpy as np\n",
    "import math\n",
    "from sklearn.cluster import KMeans\n",
    "import matplotlib.pyplot as plt \n",
    "import seaborn as sns"
   ]
  },
  {
   "cell_type": "markdown",
   "id": "bce09c93",
   "metadata": {},
   "source": [
    "A)Data1"
   ]
  },
  {
   "cell_type": "code",
   "execution_count": null,
   "id": "8d8f0fc9",
   "metadata": {},
   "outputs": [],
   "source": [
    "#reading data points 1\n",
    "pts = np.zeros((1,2))\n",
    "i=0\n",
    "with open(r'./SpectData.txt') as file:\n",
    "    for readline in file:\n",
    "        line_strip = readline.strip() # removing \\n\n",
    "        point = line_strip.split('\\t') # removing \\t\n",
    "\n",
    "        if(i==0):\n",
    "            pts[0]=point\n",
    "        else:\n",
    "            pts=np.append(pts,np.array([point]),axis=0)  \n",
    "        i+=1             \n",
    "data=pts.astype(float)"
   ]
  },
  {
   "cell_type": "code",
   "execution_count": null,
   "id": "2c36f20a",
   "metadata": {},
   "outputs": [],
   "source": [
    "k=KMeans(n_clusters=2).fit(data)\n",
    "k=k.predict(data)\n",
    "\n",
    "sns.scatterplot(x=data[:,0], y=data[:,1],hue=k)\n",
    "plt.savefig(\"Kmeans.jpg\")"
   ]
  },
  {
   "cell_type": "markdown",
   "id": "07614a2b",
   "metadata": {},
   "source": [
    "Labels"
   ]
  },
  {
   "cell_type": "code",
   "execution_count": null,
   "id": "950b25a4",
   "metadata": {},
   "outputs": [],
   "source": [
    "def euclid_distance(p1,p2):\n",
    "    return math.sqrt(((p2[0]-p1[0])**2)+((p2[1]-p1[1])**2))\n",
    "\n",
    "avg_x=np.average(data[:,0:1])\n",
    "avg_y=np.average(data[:,1:2])\n",
    "\n",
    "avg=np.array([avg_x,avg_y])\n",
    "print(avg)\n",
    "distances=np.zeros(2084)\n",
    "for i in range(2084):\n",
    "    distances[i]=euclid_distance(data[i],avg)\n",
    "\n",
    "labels=np.zeros(2084)\n",
    "for i in range(2084):\n",
    "    if(distances[i]>0.6):\n",
    "        labels[i]=0\n",
    "    else:\n",
    "        labels[i]=1\n",
    "\n",
    "sns.scatterplot(x=data[:,0], y=data[:,1],hue=labels)        "
   ]
  },
  {
   "cell_type": "code",
   "execution_count": null,
   "id": "d1ee95ca",
   "metadata": {},
   "outputs": [],
   "source": [
    "def weightFunc(pts,sigma):\n",
    "    res=np.zeros((len(pts),len(pts)))\n",
    "    for i in range(len(pts)):\n",
    "        for j in range(len(pts)):\n",
    "            if(i != j):\n",
    "                calc=math.exp((-1*(math.sqrt(((pts[i][0]-pts[j][0])**2)+((pts[i][1]-pts[j][1])**2)))**2)/(2*(sigma**2)))\n",
    "                res[i][j] = calc         \n",
    "    return(res)\n"
   ]
  },
  {
   "cell_type": "code",
   "execution_count": null,
   "id": "a2b82602",
   "metadata": {},
   "outputs": [],
   "source": [
    "sigma = np.arange(0.01, 1.01, 0.01).tolist()\n",
    "W = []\n",
    "for i in range(len(sigma)):\n",
    "    W.append(weightFunc(data,sigma[i]))"
   ]
  },
  {
   "cell_type": "code",
   "execution_count": null,
   "id": "0325a9de",
   "metadata": {},
   "outputs": [],
   "source": [
    "def getD(weight):\n",
    "    D = np.zeros((len(weight),len(weight)))\n",
    "    for i in range(len(weight)):\n",
    "        count = 0\n",
    "        for j in range(len(weight)):\n",
    "            count += weight[i][j]\n",
    "        D[i][i] = count \n",
    "    return D"
   ]
  },
  {
   "cell_type": "code",
   "execution_count": null,
   "id": "7e062501",
   "metadata": {},
   "outputs": [],
   "source": [
    "D = []\n",
    "for i in range(len(sigma)):\n",
    "    D.append(getD(W[i]))"
   ]
  },
  {
   "cell_type": "code",
   "execution_count": null,
   "id": "98e5765a",
   "metadata": {},
   "outputs": [],
   "source": [
    "W_numpy = np.array(W)\n",
    "D_numpy = np.array(D)\n",
    "subtracted_array = np.subtract(D_numpy, W_numpy)\n",
    "L = list(subtracted_array)"
   ]
  },
  {
   "cell_type": "code",
   "execution_count": null,
   "id": "fe26cbfd",
   "metadata": {},
   "outputs": [],
   "source": [
    "def eigen_vectors(Lap): #L: Laplacian\n",
    "    arr_of_eig_vectors=[]\n",
    "    for i in range(100):\n",
    "        eig_values,eig_vectors=np.linalg.eigh(Lap[i])\n",
    "        arr_of_eig_vectors.append(eig_vectors[:,1:2])#eigh sorts eigenvalues \n",
    "\n",
    "    return arr_of_eig_vectors\n",
    "\n",
    "arr_of_eig_vectors=eigen_vectors(L)\n",
    "\n",
    "#proof that eigen values are always sorted when eigh is used\n",
    "# y=np.zeros(100)\n",
    "# for i in range(100):\n",
    "#     eig_values,eig_vectors=np.linalg.eigh(L[i])\n",
    "#     eig_values_sorted=eig_values\n",
    "#     eig_values_sorted=np.sort(eig_values_sorted)\n",
    "#     if((eig_values_sorted==eig_values).all()==True):\n",
    "#         y[i]=1\n",
    "# print(y.all()==1)\n",
    "\n"
   ]
  },
  {
   "cell_type": "code",
   "execution_count": null,
   "id": "0ae16a9f",
   "metadata": {},
   "outputs": [],
   "source": [
    "def calcPredictions(eig_vectors):\n",
    "    predictions=np.zeros((100,2084))\n",
    "    for i in range(100):\n",
    "        for j in range(2084):\n",
    "            if(eig_vectors[i][j]>0):\n",
    "                predictions[i][j]=1\n",
    "            else:\n",
    "                predictions[i][j]=0\n",
    "    return predictions\n",
    "\n",
    "predictions=calcPredictions(arr_of_eig_vectors)\n"
   ]
  },
  {
   "cell_type": "code",
   "execution_count": null,
   "id": "041c4d97",
   "metadata": {},
   "outputs": [],
   "source": [
    "def calcAccuracies(p,l):\n",
    "    accuracies=np.zeros(100)\n",
    "    for i in range(100):\n",
    "        count=0\n",
    "        for j in range(2084):\n",
    "            if(p[i][j]==l[j]):\n",
    "                count+=1\n",
    "        if(count==0):\n",
    "            count=2084\n",
    "\n",
    "        accuracies[i]=count/2084*100\n",
    "\n",
    "    return accuracies\n",
    "\n",
    "accuracies=calcAccuracies(predictions,labels)\n",
    "    \n",
    "max_accuracy=np.max(accuracies)    \n",
    "sigma_of_max_accuracy=np.where(accuracies==np.max(accuracies))[0][0]\n",
    "\n",
    "print(\"Maximim Accuracy = \"+str(max_accuracy))\n",
    "print(\"using sigma = \"+str((sigma_of_max_accuracy+1)/100))\n",
    "\n",
    "sns.scatterplot(x=data[:,0], y=data[:,1],hue=predictions[sigma_of_max_accuracy]) #plot of the best accuracy\n",
    "plt.savefig(\"clustering_result_a.jpg\")"
   ]
  },
  {
   "cell_type": "code",
   "execution_count": null,
   "id": "ea00825e",
   "metadata": {},
   "outputs": [],
   "source": [
    "sns.scatterplot(data=accuracies) #plot of the clustering accuracy versus different values of the standard deviation\n",
    "plt.savefig(\"Spect_a.jpg\")"
   ]
  },
  {
   "cell_type": "markdown",
   "id": "6bdb0a13",
   "metadata": {},
   "source": [
    "Another Approach"
   ]
  },
  {
   "cell_type": "code",
   "execution_count": null,
   "id": "43610989",
   "metadata": {},
   "outputs": [],
   "source": [
    "def predict(L):\n",
    "    predictions=np.zeros((100,2084))\n",
    "\n",
    "    for i in range(len(sigma)):\n",
    "        eig_values,eig_vectors=np.linalg.eigh(L[i])\n",
    "        U=eig_vectors[:,1:2]\n",
    "        kmean=KMeans(n_clusters=2).fit(U.reshape(-1,1))\n",
    "        predictions[i]=kmean.predict(U.reshape(-1,1))\n",
    "\n",
    "    return predictions\n",
    "    \n",
    "another_predictions=predict(L) "
   ]
  },
  {
   "cell_type": "code",
   "execution_count": null,
   "id": "f18ca760",
   "metadata": {},
   "outputs": [],
   "source": [
    "another_accuracies=calcAccuracies(another_predictions,labels)\n",
    "    \n",
    "max_accuracy=np.max(another_accuracies)    \n",
    "sigma_of_max_accuracy=0.01+np.where(accuracies==np.max(accuracies))[0][0]\n",
    "\n",
    "print(\"Maximim Accuracy = \"+str(max_accuracy))\n",
    "print(\"using sigma = \"+str((sigma_of_max_accuracy+1)/100))\n",
    "print(another_accuracies)\n"
   ]
  },
  {
   "cell_type": "code",
   "execution_count": null,
   "id": "70f35f0d",
   "metadata": {},
   "outputs": [],
   "source": [
    "sns.scatterplot(x=data[:,0], y=data[:,1],hue=another_predictions[sigma_of_max_accuracy])\n",
    "plt.savefig(\"Kmeans_a_another_approach.jpg\")\n"
   ]
  },
  {
   "cell_type": "code",
   "execution_count": null,
   "id": "29488e72",
   "metadata": {},
   "outputs": [],
   "source": [
    "sns.scatterplot(data=another_accuracies) #plot of the clustering accuracy versus different values of the standard deviation\n",
    "plt.savefig(\"Spect_a_another_approach.jpg\")"
   ]
  },
  {
   "cell_type": "markdown",
   "id": "e778225e",
   "metadata": {},
   "source": [
    "B)Data2"
   ]
  },
  {
   "cell_type": "code",
   "execution_count": null,
   "id": "a737a9aa",
   "metadata": {},
   "outputs": [],
   "source": [
    "#reading data points 2\n",
    "pts = np.zeros((1,2))\n",
    "i=0\n",
    "with open(r'./SpectData2.txt') as file:\n",
    "    for readline in file:\n",
    "        line_strip = readline.strip() # removing \\n\n",
    "        point = line_strip.split('\\t') # removing \\t\n",
    "\n",
    "        if(i==0):\n",
    "            pts[0]=point\n",
    "        else:\n",
    "            pts=np.append(pts,np.array([point]),axis=0)  \n",
    "        i+=1             \n",
    "data2=pts.astype(float)\n"
   ]
  },
  {
   "cell_type": "code",
   "execution_count": null,
   "id": "3fca22af",
   "metadata": {},
   "outputs": [],
   "source": [
    "avg_x2=np.average(data2[:,0:1])\n",
    "avg_y2=np.average(data2[:,1:2])\n",
    "\n",
    "avg2=np.array([avg_x2,avg_y2])\n",
    "print(avg2)\n",
    "distances2=np.zeros(2084)\n",
    "for i in range(2084):\n",
    "    distances2[i]=euclid_distance(data2[i],avg2)\n",
    "\n",
    "labels2=np.zeros(2084)\n",
    "for i in range(2084):\n",
    "    if(distances2[i]>0.6):\n",
    "        labels2[i]=0\n",
    "    else:\n",
    "        labels2[i]=1\n",
    "\n",
    "sns.scatterplot(x=data2[:,0], y=data2[:,1],hue=labels2)        "
   ]
  },
  {
   "cell_type": "code",
   "execution_count": null,
   "id": "f0f09047",
   "metadata": {},
   "outputs": [],
   "source": [
    "W = []\n",
    "for i in range(len(sigma)):\n",
    "    W.append(weightFunc(data2,sigma[i]))"
   ]
  },
  {
   "cell_type": "code",
   "execution_count": null,
   "id": "4b8407e2",
   "metadata": {},
   "outputs": [],
   "source": [
    "D = []\n",
    "for i in range(len(sigma)):\n",
    "    D.append(getD(W[i]))"
   ]
  },
  {
   "cell_type": "code",
   "execution_count": null,
   "id": "4bb768a9",
   "metadata": {},
   "outputs": [],
   "source": [
    "W_numpy = np.array(W)\n",
    "D_numpy = np.array(D)\n",
    "subtracted_array = np.subtract(D_numpy, W_numpy)\n",
    "L = list(subtracted_array)\n"
   ]
  },
  {
   "cell_type": "code",
   "execution_count": null,
   "id": "70abf7e3",
   "metadata": {},
   "outputs": [],
   "source": [
    "arr_of_eig_vectors2=eigen_vectors(L)"
   ]
  },
  {
   "cell_type": "code",
   "execution_count": null,
   "id": "0329bd13",
   "metadata": {},
   "outputs": [],
   "source": [
    "predictions2 = calcPredictions(arr_of_eig_vectors2)"
   ]
  },
  {
   "cell_type": "code",
   "execution_count": null,
   "id": "3b9b5091",
   "metadata": {},
   "outputs": [],
   "source": [
    "accuracies2=calcAccuracies(predictions2,labels2)\n",
    "    \n",
    "max_accuracy2=np.max(accuracies2)    \n",
    "sigma_of_max_accuracy2=np.where(accuracies2==np.max(accuracies2))[0][0]\n",
    "\n",
    "print(\"Maximim Accuracy = \"+str(max_accuracy2))\n",
    "print(\"using sigma = \"+str((sigma_of_max_accuracy2+1)/100))\n",
    "\n",
    "sns.scatterplot(x=data2[:,0], y=data2[:,1],hue=predictions2[sigma_of_max_accuracy2]) #plot of the best accuracy\n",
    "plt.savefig(\"clustering_result_b.jpg\")"
   ]
  },
  {
   "cell_type": "code",
   "execution_count": null,
   "id": "264d030a",
   "metadata": {},
   "outputs": [],
   "source": [
    "sns.scatterplot(data=accuracies2) #plot of the clustering accuracy versus different values of the standard deviation\n",
    "plt.savefig(\"Spect_b.jpg\")"
   ]
  },
  {
   "cell_type": "markdown",
   "id": "bfc6487c",
   "metadata": {},
   "source": [
    "C)"
   ]
  },
  {
   "cell_type": "code",
   "execution_count": null,
   "id": "87149705",
   "metadata": {},
   "outputs": [],
   "source": [
    "small_radius=euclid_distance(data[3],avg)\n",
    "large_radius=euclid_distance(data[0],avg)\n",
    "\n",
    "small_radius2=euclid_distance(data2[0],avg2)\n",
    "large_radius2=euclid_distance(data2[1],avg2)\n",
    "\n",
    "print(\"difference1 = \"+str(large_radius-small_radius)+\" sigma = \"+str((sigma_of_max_accuracy+1)/100))\n",
    "print(\"difference2 = \"+str(large_radius2-small_radius2)+\" sigma = \"+str((sigma_of_max_accuracy2+1)/100))\n",
    "\n",
    "print(\"\\nwe found that when the difference between the two radii of the concentric circle increases, the value of optimium standard deviation increases.\")\n",
    "\n",
    "\n",
    "\n"
   ]
  },
  {
   "cell_type": "code",
   "execution_count": null,
   "id": "d0833020",
   "metadata": {},
   "outputs": [],
   "source": []
  }
 ],
 "metadata": {
  "kernelspec": {
   "display_name": "Python 3",
   "language": "python",
   "name": "python3"
  },
  "language_info": {
   "codemirror_mode": {
    "name": "ipython",
    "version": 3
   },
   "file_extension": ".py",
   "mimetype": "text/x-python",
   "name": "python",
   "nbconvert_exporter": "python",
   "pygments_lexer": "ipython3",
   "version": "3.8.8"
  }
 },
 "nbformat": 4,
 "nbformat_minor": 5
}
