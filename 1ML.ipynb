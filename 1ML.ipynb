{
 "cells": [
  {
   "cell_type": "code",
   "execution_count": 3,
   "id": "6c3fa73a",
   "metadata": {},
   "outputs": [],
   "source": [
    "import numpy as np\n",
    "import math"
   ]
  },
  {
   "cell_type": "code",
   "execution_count": 4,
   "id": "8d8f0fc9",
   "metadata": {},
   "outputs": [
    {
     "data": {
      "text/plain": [
       "2084"
      ]
     },
     "execution_count": 4,
     "metadata": {},
     "output_type": "execute_result"
    }
   ],
   "source": [
    "#reading data points 1\n",
    "pts = np.zeros((1,2))\n",
    "i=0\n",
    "with open(r'./SpectData.txt') as file:\n",
    "    for readline in file:\n",
    "        line_strip = readline.strip() # removing \\n\n",
    "        point = line_strip.split('\\t') # removing \\t\n",
    "\n",
    "        if(i==0):\n",
    "            pts[0]=point\n",
    "        else:\n",
    "            pts=np.append(pts,np.array([point]),axis=0)  \n",
    "        i+=1             \n",
    "data=pts.astype(float)\n",
    "\n",
    "data[0]\n",
    "len(data)"
   ]
  },
  {
   "cell_type": "code",
   "execution_count": null,
   "id": "b9bd414b",
   "metadata": {},
   "outputs": [],
   "source": [
    "#reading data points 2\n",
    "# pts2 = np.zeros((1,2))\n",
    "# i=0\n",
    "# with open(r'C:\\Users\\itisk\\Desktop\\File Storage\\Workspace\\1\\ML\\Data\\SpectData2.txt') as file:\n",
    "#     for readline in file:\n",
    "#         line_strip = readline.strip() # removing \\n\n",
    "#         point = line_strip.split('\\t') # removing \\t\n",
    "\n",
    "#         if(i==0):\n",
    "#             pts2[0]=point\n",
    "#         else:\n",
    "#             pts2=np.append(pts2,np.array([point]),axis=0)  \n",
    "#         i+=1             \n",
    "# data2=pts.astype(float)\n",
    "\n",
    "# data2[0]\n",
    "# len(data2)"
   ]
  },
  {
   "cell_type": "code",
   "execution_count": 5,
   "id": "d1ee95ca",
   "metadata": {},
   "outputs": [],
   "source": [
    "def weightFunc(pts,sigma):\n",
    "    res=np.array([])\n",
    "    for i in range(len(pts)):\n",
    "        for j in range(i+1,len(pts)):\n",
    "            calc=-1*(((pts[i][0]-pts[j][0])**2) + ((pts[i][1]-pts[j][1])**2))/2*((sigma*10**-2)**2)\n",
    "            res=np.append(res,np.array([calc]),axis=0)\n",
    "    print(sigma)\n",
    "    res=np.exp(res)\n",
    "    return(res)\n"
   ]
  },
  {
   "cell_type": "code",
   "execution_count": 8,
   "id": "b58f8df2",
   "metadata": {},
   "outputs": [
    {
     "name": "stdout",
     "output_type": "stream",
     "text": [
      "0\n",
      "1\n",
      "2\n",
      "3\n",
      "4\n",
      "5\n",
      "6\n",
      "7\n",
      "8\n",
      "9\n",
      "10\n",
      "11\n",
      "12\n",
      "13\n",
      "14\n",
      "15\n",
      "16\n",
      "17\n",
      "18\n",
      "19\n",
      "20\n",
      "21\n",
      "22\n",
      "23\n",
      "24\n",
      "25\n",
      "26\n",
      "27\n",
      "28\n",
      "29\n",
      "30\n",
      "31\n",
      "32\n",
      "33\n",
      "34\n",
      "35\n",
      "36\n",
      "37\n",
      "38\n",
      "39\n",
      "40\n",
      "41\n",
      "42\n",
      "43\n",
      "44\n",
      "45\n",
      "46\n",
      "47\n",
      "48\n",
      "49\n",
      "50\n",
      "51\n",
      "52\n",
      "53\n",
      "54\n",
      "55\n",
      "56\n",
      "57\n",
      "58\n",
      "59\n",
      "60\n",
      "61\n",
      "62\n",
      "63\n",
      "64\n",
      "65\n",
      "66\n",
      "67\n",
      "68\n",
      "69\n",
      "70\n",
      "71\n",
      "72\n",
      "73\n",
      "74\n",
      "75\n",
      "76\n",
      "77\n",
      "78\n",
      "79\n",
      "80\n",
      "81\n",
      "82\n",
      "83\n",
      "84\n",
      "85\n",
      "86\n",
      "87\n",
      "88\n",
      "89\n",
      "90\n",
      "91\n",
      "92\n",
      "93\n",
      "94\n",
      "95\n",
      "96\n",
      "97\n",
      "98\n",
      "99\n",
      "100\n"
     ]
    }
   ],
   "source": [
    "for i in range(101):\n",
    "    y = weightFunc(data[:200],i)"
   ]
  },
  {
   "cell_type": "code",
   "execution_count": null,
   "id": "a2b82602",
   "metadata": {},
   "outputs": [],
   "source": [
    "print(len(y))\n",
    "print(\"===============================================\")\n",
    "print(y)"
   ]
  },
  {
   "cell_type": "code",
   "execution_count": null,
   "id": "0325a9de",
   "metadata": {},
   "outputs": [],
   "source": []
  }
 ],
 "metadata": {
  "kernelspec": {
   "display_name": "Python 3",
   "language": "python",
   "name": "python3"
  },
  "language_info": {
   "codemirror_mode": {
    "name": "ipython",
    "version": 3
   },
   "file_extension": ".py",
   "mimetype": "text/x-python",
   "name": "python",
   "nbconvert_exporter": "python",
   "pygments_lexer": "ipython3",
   "version": "3.8.8"
  }
 },
 "nbformat": 4,
 "nbformat_minor": 5
}
